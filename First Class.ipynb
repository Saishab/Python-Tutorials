{
 "cells": [
  {
   "cell_type": "markdown",
   "id": "1fea6f60-6cc6-4def-a4bf-7a1207684c80",
   "metadata": {},
   "source": [
    "### Lets make computer to print Our Country"
   ]
  },
  {
   "cell_type": "code",
   "execution_count": 1,
   "id": "16177b24-04c8-4f64-a2b2-06c04efcc327",
   "metadata": {},
   "outputs": [
    {
     "ename": "NameError",
     "evalue": "name 'Print' is not defined",
     "output_type": "error",
     "traceback": [
      "\u001b[31m---------------------------------------------------------------------------\u001b[39m",
      "\u001b[31mNameError\u001b[39m                                 Traceback (most recent call last)",
      "\u001b[36mCell\u001b[39m\u001b[36m \u001b[39m\u001b[32mIn[1]\u001b[39m\u001b[32m, line 1\u001b[39m\n\u001b[32m----> \u001b[39m\u001b[32m1\u001b[39m \u001b[43mPrint\u001b[49m(\u001b[33m\"\u001b[39m\u001b[33mMy Country My Pride, Nepal\u001b[39m\u001b[33m\"\u001b[39m)\n",
      "\u001b[31mNameError\u001b[39m: name 'Print' is not defined"
     ]
    }
   ],
   "source": [
    "Print(\"My Country My Pride, Nepal\")"
   ]
  },
  {
   "cell_type": "code",
   "execution_count": 2,
   "id": "de519f78-4f46-45a8-bcd4-d28701b098da",
   "metadata": {},
   "outputs": [
    {
     "ename": "NameError",
     "evalue": "name 'Print' is not defined",
     "output_type": "error",
     "traceback": [
      "\u001b[31m---------------------------------------------------------------------------\u001b[39m",
      "\u001b[31mNameError\u001b[39m                                 Traceback (most recent call last)",
      "\u001b[36mCell\u001b[39m\u001b[36m \u001b[39m\u001b[32mIn[2]\u001b[39m\u001b[32m, line 1\u001b[39m\n\u001b[32m----> \u001b[39m\u001b[32m1\u001b[39m \u001b[43mPrint\u001b[49m(\u001b[33m\"\u001b[39m\u001b[33mMero desh Nepal Ho!!\u001b[39m\u001b[33m\"\u001b[39m)\n",
      "\u001b[31mNameError\u001b[39m: name 'Print' is not defined"
     ]
    }
   ],
   "source": [
    "Print(\"Mero desh Nepal Ho!!\")"
   ]
  },
  {
   "cell_type": "code",
   "execution_count": 3,
   "id": "c785d9a4-edfe-4f6b-b9ad-c590701ea76a",
   "metadata": {},
   "outputs": [
    {
     "ename": "NameError",
     "evalue": "name 'Print' is not defined",
     "output_type": "error",
     "traceback": [
      "\u001b[31m---------------------------------------------------------------------------\u001b[39m",
      "\u001b[31mNameError\u001b[39m                                 Traceback (most recent call last)",
      "\u001b[36mCell\u001b[39m\u001b[36m \u001b[39m\u001b[32mIn[3]\u001b[39m\u001b[32m, line 1\u001b[39m\n\u001b[32m----> \u001b[39m\u001b[32m1\u001b[39m \u001b[43mPrint\u001b[49m(\u001b[33m\"\u001b[39m\u001b[33mma Nepali ho vanya\u001b[39m\u001b[33m\"\u001b[39m)\n",
      "\u001b[31mNameError\u001b[39m: name 'Print' is not defined"
     ]
    }
   ],
   "source": [
    "Print(\"ma Nepali ho vanya\")"
   ]
  },
  {
   "cell_type": "code",
   "execution_count": 3,
   "id": "a884be49-fb49-43aa-82e6-c5c5ca8f9eba",
   "metadata": {},
   "outputs": [
    {
     "ename": "NameError",
     "evalue": "name 'parint' is not defined",
     "output_type": "error",
     "traceback": [
      "\u001b[31m---------------------------------------------------------------------------\u001b[39m",
      "\u001b[31mNameError\u001b[39m                                 Traceback (most recent call last)",
      "\u001b[36mCell\u001b[39m\u001b[36m \u001b[39m\u001b[32mIn[3]\u001b[39m\u001b[32m, line 1\u001b[39m\n\u001b[32m----> \u001b[39m\u001b[32m1\u001b[39m \u001b[43mparint\u001b[49m(\u001b[33m\"\u001b[39m\u001b[33mMero Swabhiman, Mero Nepal\u001b[39m\u001b[33m\"\u001b[39m)\n",
      "\u001b[31mNameError\u001b[39m: name 'parint' is not defined"
     ]
    }
   ],
   "source": [
    "parint(\"Mero Swabhiman, Mero Nepal\")"
   ]
  },
  {
   "cell_type": "code",
   "execution_count": 4,
   "id": "9d03a0bb-e296-48c7-87d0-fa61267f3928",
   "metadata": {},
   "outputs": [
    {
     "name": "stdout",
     "output_type": "stream",
     "text": [
      "I Love Australia ko PR but yo man ta mero Nepali Ho\n"
     ]
    }
   ],
   "source": [
    "print(\"I Love Australia ko PR but yo man ta mero Nepali Ho\")"
   ]
  },
  {
   "cell_type": "code",
   "execution_count": 8,
   "id": "ab6b2156-5895-46cb-b55b-d1fde56eff09",
   "metadata": {},
   "outputs": [
    {
     "name": "stdout",
     "output_type": "stream",
     "text": [
      "False\n"
     ]
    }
   ],
   "source": [
    "#print(\"5 is lesser than 2\") #here this is print command\n",
    "print(5<2)"
   ]
  },
  {
   "cell_type": "code",
   "execution_count": 63,
   "id": "51f34db0-381c-4eea-9781-cde30863274a",
   "metadata": {},
   "outputs": [],
   "source": [
    "#print(\"I Love Australia ko PR but yo man ta mero Nepali Ho\")"
   ]
  },
  {
   "cell_type": "code",
   "execution_count": 9,
   "id": "b27501a7-d2de-42a0-99d1-37ebbb24c64d",
   "metadata": {},
   "outputs": [
    {
     "name": "stdout",
     "output_type": "stream",
     "text": [
      "के छ केटो ?\n"
     ]
    }
   ],
   "source": [
    "print(\"के छ केटो ?\")"
   ]
  },
  {
   "cell_type": "code",
   "execution_count": 11,
   "id": "d8e6da6e-3ec6-4942-8967-045afa87eb9e",
   "metadata": {},
   "outputs": [
    {
     "name": "stdout",
     "output_type": "stream",
     "text": [
      "Jay Nepal\n"
     ]
    }
   ],
   "source": [
    "print(\"Jay Nepal\")"
   ]
  },
  {
   "cell_type": "markdown",
   "id": "9523e0f7-2f89-4b55-b9e1-6bd1c0709650",
   "metadata": {},
   "source": [
    "### Comments in Python"
   ]
  },
  {
   "cell_type": "code",
   "execution_count": 12,
   "id": "2c9f05e8-02f4-4d9c-b1d8-fb75f95be3b5",
   "metadata": {},
   "outputs": [
    {
     "name": "stdout",
     "output_type": "stream",
     "text": [
      "Rythym says , Jay Nepal!!!\n"
     ]
    }
   ],
   "source": [
    "me = \"Rythym\"\n",
    "print(me, \"says , Jay Nepal!!!\")"
   ]
  },
  {
   "cell_type": "raw",
   "id": "bc2c197b-aedf-40d6-9e36-73a669033e34",
   "metadata": {},
   "source": [
    "Variables in Python "
   ]
  },
  {
   "cell_type": "code",
   "execution_count": 66,
   "id": "caad7854-2778-4b5d-8c6e-ee69b663b3a2",
   "metadata": {},
   "outputs": [
    {
     "name": "stdout",
     "output_type": "stream",
     "text": [
      "Rajesh Hamal\n"
     ]
    }
   ],
   "source": [
    "my_name = \"Rajesh Hamal\"\n",
    "print(my_name)"
   ]
  },
  {
   "cell_type": "code",
   "execution_count": 67,
   "id": "e7b673e0-0ec1-4ad1-9256-ceabcea1b1f8",
   "metadata": {},
   "outputs": [
    {
     "name": "stdout",
     "output_type": "stream",
     "text": [
      "Rajesh hamal\n"
     ]
    }
   ],
   "source": [
    "_my_name_ = \"Rajesh hamal\"\n",
    "print(_my_name_)"
   ]
  },
  {
   "cell_type": "markdown",
   "id": "afe17105-cda4-4210-9c56-28a2b6345fd2",
   "metadata": {},
   "source": [
    "#### Now onwards there are graphs"
   ]
  },
  {
   "cell_type": "raw",
   "id": "42cb896e-7da2-4e50-a3d2-a99f43395758",
   "metadata": {},
   "source": [
    "2myvar = \"John\"\n",
    "my-var = \"John\"\n",
    "my var = \"John\"\n"
   ]
  },
  {
   "cell_type": "markdown",
   "id": "ec957037-97ce-4ba6-87e5-0fbc7e88666c",
   "metadata": {},
   "source": [
    "## Multiple Values"
   ]
  },
  {
   "cell_type": "code",
   "execution_count": 10,
   "id": "03e3d60b-3a48-4459-8135-a8ed3bfa91a0",
   "metadata": {},
   "outputs": [
    {
     "name": "stdout",
     "output_type": "stream",
     "text": [
      "3\n",
      "4\n",
      "9\n"
     ]
    }
   ],
   "source": [
    "## Multiple Values\n",
    "x , y, i = 3,4,9\n",
    "print(x)\n",
    "print(y)\n",
    "print(i)"
   ]
  },
  {
   "cell_type": "code",
   "execution_count": 40,
   "id": "996ab3f1-4dc0-4c2f-8c85-9681f127584a",
   "metadata": {},
   "outputs": [
    {
     "name": "stdout",
     "output_type": "stream",
     "text": [
      "Orange\n",
      "Banana\n",
      "Cherry\n"
     ]
    }
   ],
   "source": [
    "x, y, z = \"Orange\", \"Banana\", \"Cherry\"\n",
    "print(x)\n",
    "print(y)\n",
    "print(z)"
   ]
  },
  {
   "cell_type": "code",
   "execution_count": 13,
   "id": "fc0d00a2-26d7-4872-99ba-6c90df1b67e9",
   "metadata": {},
   "outputs": [
    {
     "name": "stdout",
     "output_type": "stream",
     "text": [
      "Vladimar Daju is awesome\n"
     ]
    }
   ],
   "source": [
    "x = \"Vladimar Daju\"\n",
    "y = \"is\"\n",
    "z = \"awesome\"\n",
    "print(x, y, z)"
   ]
  },
  {
   "cell_type": "markdown",
   "id": "d0f9a69b-cc1e-4921-b7cc-e086df4eab18",
   "metadata": {},
   "source": [
    "### Data Types\n",
    "1. Int\n",
    "2. Float\n",
    "3. Complex"
   ]
  },
  {
   "cell_type": "markdown",
   "id": "957d4f22-eaa9-4139-8436-9877bd424470",
   "metadata": {},
   "source": [
    "### What about Numbers?"
   ]
  },
  {
   "cell_type": "code",
   "execution_count": 16,
   "id": "8601b558-f20e-46f0-bcf1-ef8ff1ebc458",
   "metadata": {},
   "outputs": [
    {
     "name": "stdout",
     "output_type": "stream",
     "text": [
      "10\n"
     ]
    }
   ],
   "source": [
    "x = 8\n",
    "y = 2\n",
    "\n",
    "\n",
    "print(x+y)"
   ]
  },
  {
   "cell_type": "code",
   "execution_count": 17,
   "id": "d8cb64b5-01a7-4259-bfed-1a49599f7fe1",
   "metadata": {},
   "outputs": [
    {
     "name": "stdout",
     "output_type": "stream",
     "text": [
      "<class 'int'>\n",
      "<class 'str'>\n",
      "<class 'float'>\n"
     ]
    }
   ],
   "source": [
    "n = \"nepal\"\n",
    "my_num = 9\n",
    "HELLO = 9.0\n",
    "print(type(my_num))\n",
    "print(type(n))\n",
    "\n",
    "print(type(HELLO))\n"
   ]
  },
  {
   "cell_type": "code",
   "execution_count": 3,
   "id": "e9fab598-af9c-44d8-bc30-da3284774733",
   "metadata": {},
   "outputs": [
    {
     "name": "stdin",
     "output_type": "stream",
     "text": [
      "Enter first number 5\n",
      "Enter second number 6\n"
     ]
    },
    {
     "name": "stdout",
     "output_type": "stream",
     "text": [
      "56\n"
     ]
    }
   ],
   "source": [
    "a = input(\"Enter first number\")\n",
    "b = input(\"Enter second number\")\n",
    "\n",
    "c = a+b \n",
    "print(c)   "
   ]
  },
  {
   "cell_type": "code",
   "execution_count": null,
   "id": "2b407a53-4c62-449d-bf46-ddd8855eb79d",
   "metadata": {},
   "outputs": [],
   "source": []
  },
  {
   "cell_type": "code",
   "execution_count": null,
   "id": "7c0ae7a3-35db-4d6b-9449-bfc87690809b",
   "metadata": {},
   "outputs": [],
   "source": []
  },
  {
   "cell_type": "markdown",
   "id": "7d250e93-c124-4bb3-9dd3-f5edd64564a6",
   "metadata": {},
   "source": [
    "#### input() always returns a string, even if you enter numbers. \n",
    "For input() string is \"Jigarrr ka tukraaa!\""
   ]
  },
  {
   "cell_type": "code",
   "execution_count": 4,
   "id": "9cb3a608-0046-41a7-832c-793c7708dd1c",
   "metadata": {},
   "outputs": [
    {
     "name": "stdin",
     "output_type": "stream",
     "text": [
      "Enter first number 5\n",
      "Enter second number 6\n"
     ]
    },
    {
     "name": "stdout",
     "output_type": "stream",
     "text": [
      "11\n"
     ]
    }
   ],
   "source": [
    "v = int(input(\"Enter first number\"))\n",
    "m = int(input(\"Enter second number\"))\n",
    "\n",
    "x = v+m\n",
    "print(x)"
   ]
  },
  {
   "cell_type": "markdown",
   "id": "e1ae1d95-0720-476b-a9d5-dc4f89343cd4",
   "metadata": {},
   "source": [
    "Do you think we always work with Integers? What about numbers with decimals like 3.4,5.6,8.9 ??"
   ]
  },
  {
   "cell_type": "code",
   "execution_count": 3,
   "id": "c771d1ea-99d3-4633-9e4c-b09115e14b1d",
   "metadata": {},
   "outputs": [
    {
     "name": "stdin",
     "output_type": "stream",
     "text": [
      "Enter first number 4\n",
      "Enter second number 5\n"
     ]
    },
    {
     "name": "stdout",
     "output_type": "stream",
     "text": [
      "9.0\n"
     ]
    }
   ],
   "source": [
    "v1 = float(input(\"Enter first number\"))\n",
    "m1 = float(input(\"Enter second number\"))\n",
    "\n",
    "i = v1+m1\n",
    "print(i)"
   ]
  },
  {
   "cell_type": "markdown",
   "id": "9c8791f6-0096-456a-8ce7-c6362961c4b4",
   "metadata": {},
   "source": [
    "### More with Numbers\n"
   ]
  },
  {
   "cell_type": "code",
   "execution_count": 4,
   "id": "11768523-f7d2-4da9-b6f7-8a57f98cfd52",
   "metadata": {},
   "outputs": [
    {
     "name": "stdout",
     "output_type": "stream",
     "text": [
      "9\n"
     ]
    }
   ],
   "source": [
    "#add\n",
    "print(4+5)"
   ]
  },
  {
   "cell_type": "code",
   "execution_count": 6,
   "id": "50ada8f9-f42f-4d7c-b437-c85d57dd6d8f",
   "metadata": {},
   "outputs": [
    {
     "name": "stdout",
     "output_type": "stream",
     "text": [
      "1\n"
     ]
    }
   ],
   "source": [
    "print(3%2)"
   ]
  },
  {
   "cell_type": "code",
   "execution_count": null,
   "id": "1af8421b-9c45-4348-8d5b-1526b6fb9a2b",
   "metadata": {},
   "outputs": [],
   "source": []
  },
  {
   "cell_type": "code",
   "execution_count": 32,
   "id": "4d67d0e8-54b4-4cb2-b035-99b39a960b92",
   "metadata": {},
   "outputs": [
    {
     "name": "stdout",
     "output_type": "stream",
     "text": [
      "3\n"
     ]
    }
   ],
   "source": [
    "print(myname1)"
   ]
  },
  {
   "cell_type": "code",
   "execution_count": 7,
   "id": "fd124dd6-ebee-4e73-9195-e84c05e2ccf5",
   "metadata": {},
   "outputs": [
    {
     "name": "stdout",
     "output_type": "stream",
     "text": [
      "The force is 90 m/s²\n"
     ]
    }
   ],
   "source": [
    "mass = 10\n",
    "acceleration = 9\n",
    "\n",
    "force = mass * acceleration \n",
    "\n",
    "print(\"The force is\",force,\"m/s²\")"
   ]
  },
  {
   "cell_type": "markdown",
   "id": "9fbe38b4-2700-41b5-a13b-66830bfa8ea8",
   "metadata": {},
   "source": [
    "##### Boolean "
   ]
  },
  {
   "cell_type": "raw",
   "id": "1d554b9a-dbb2-49b7-9cfc-58844b898068",
   "metadata": {},
   "source": [
    " 1 - True & 0 - False"
   ]
  },
  {
   "cell_type": "code",
   "execution_count": 17,
   "id": "3dafd2bd-6407-4c3a-b225-cc740f0c34d9",
   "metadata": {},
   "outputs": [
    {
     "name": "stdout",
     "output_type": "stream",
     "text": [
      "False\n"
     ]
    }
   ],
   "source": [
    "x = False\n",
    "print(x)"
   ]
  },
  {
   "cell_type": "code",
   "execution_count": 6,
   "id": "675e67fd-0db8-4162-a42f-7eea52701492",
   "metadata": {},
   "outputs": [
    {
     "name": "stdout",
     "output_type": "stream",
     "text": [
      "False\n"
     ]
    }
   ],
   "source": [
    "o = False\n",
    "p = True\n",
    "# print(o)\n",
    "# print(p)\n",
    "print(o and p )"
   ]
  },
  {
   "cell_type": "code",
   "execution_count": null,
   "id": "bcf022a7-1c2b-4163-a6c9-d341dd7c8b86",
   "metadata": {},
   "outputs": [],
   "source": []
  },
  {
   "cell_type": "raw",
   "id": "f56d41bd-33b3-45b2-8615-49f5a60fb192",
   "metadata": {},
   "source": [
    "Class Work:https://shorturl.at/ysFc5\n"
   ]
  },
  {
   "cell_type": "code",
   "execution_count": 57,
   "id": "c4a0e353-28d1-4e84-8d57-0da156537c1b",
   "metadata": {},
   "outputs": [
    {
     "name": "stdout",
     "output_type": "stream",
     "text": [
      "nepal\n",
      "nepal\n"
     ]
    }
   ],
   "source": []
  },
  {
   "cell_type": "code",
   "execution_count": null,
   "id": "c3f509ae-03ea-4af1-8ce8-04d10cad1bf5",
   "metadata": {},
   "outputs": [],
   "source": []
  }
 ],
 "metadata": {
  "kernelspec": {
   "display_name": "Python 3 (ipykernel)",
   "language": "python",
   "name": "python3"
  },
  "language_info": {
   "codemirror_mode": {
    "name": "ipython",
    "version": 3
   },
   "file_extension": ".py",
   "mimetype": "text/x-python",
   "name": "python",
   "nbconvert_exporter": "python",
   "pygments_lexer": "ipython3",
   "version": "3.13.2"
  }
 },
 "nbformat": 4,
 "nbformat_minor": 5
}
