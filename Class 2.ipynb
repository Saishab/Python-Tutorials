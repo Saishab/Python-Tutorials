{
 "cells": [
  {
   "cell_type": "raw",
   "id": "107d904e-f2d7-4cc4-be97-eb46d0ac9d48",
   "metadata": {},
   "source": [
    "The weather forecast says that today’s temperature is 25°C. You want to know what this temperature is in Fahrenheit.\n",
    "\n",
    "Using the formula to convert Celsius to Fahrenheit,\n",
    "F = (9/5)*C + 32\n",
    "\n",
    "print the output as \"The provided temperature  in Celsius was *** and in Fahrenheit is **** \""
   ]
  },
  {
   "cell_type": "markdown",
   "id": "512fdf39-cb86-42cb-a13e-06b493a16b54",
   "metadata": {},
   "source": [
    "### A. Working with Python String"
   ]
  },
  {
   "cell_type": "code",
   "execution_count": 1,
   "id": "afdb5e0f-ba39-4551-bec4-8787a92bdab5",
   "metadata": {},
   "outputs": [
    {
     "name": "stdout",
     "output_type": "stream",
     "text": [
      "Hello I am Donald Trump and I am imposing 50% Tarrif on India\n"
     ]
    }
   ],
   "source": [
    "x = \"Hello I am Donald Trump and I am imposing 50% Tarrif on India\"\n",
    "print(x)"
   ]
  },
  {
   "cell_type": "code",
   "execution_count": 3,
   "id": "7f745554-9f20-4f6d-bcfd-4ea47c9cd86c",
   "metadata": {},
   "outputs": [
    {
     "name": "stdout",
     "output_type": "stream",
     "text": [
      "False\n"
     ]
    }
   ],
   "source": [
    "print(\"tarrif\" in x)"
   ]
  },
  {
   "cell_type": "markdown",
   "id": "8a18b931-4ea2-4b3b-8ad9-3eb7c80bdc5a",
   "metadata": {},
   "source": [
    "#### A.1 Multiline Strings"
   ]
  },
  {
   "cell_type": "code",
   "execution_count": 5,
   "id": "8dfaab62-9c37-47e7-8edd-9a176796383f",
   "metadata": {},
   "outputs": [
    {
     "name": "stdout",
     "output_type": "stream",
     "text": [
      " Hello my name is Rajesh Hamal and I am thanos of Nepal. \n",
      "I live in Kathmandu and my favourite food is Mo:mo\n",
      "                    \n"
     ]
    }
   ],
   "source": [
    "my_paragraph = ''' Hello my name is Rajesh Hamal and I am hero of Nepal. \n",
    "I live in Kathmandu and my favourite food is Mo:mo\n",
    "                    '''\n",
    "print(my_paragraph)"
   ]
  },
  {
   "cell_type": "code",
   "execution_count": 14,
   "id": "0bb48d93-8e27-4289-8191-5771a1a7467d",
   "metadata": {},
   "outputs": [
    {
     "name": "stdout",
     "output_type": "stream",
     "text": [
      "Nepal is my country\n"
     ]
    }
   ],
   "source": [
    "x1 = 'Nepal'\n",
    "y = 'is'\n",
    "z = 'my country'\n",
    "\n",
    "print(x1,y,z)"
   ]
  },
  {
   "cell_type": "code",
   "execution_count": 7,
   "id": "828a3c2c-4ca3-4d09-97e9-89e5d9cbe5ac",
   "metadata": {},
   "outputs": [
    {
     "name": "stdout",
     "output_type": "stream",
     "text": [
      "Nepal is my Country\n"
     ]
    }
   ],
   "source": [
    "my_note = \"Nepal is my Country\"\n",
    "print(my_note)"
   ]
  },
  {
   "cell_type": "code",
   "execution_count": 5,
   "id": "cbc550ee-46ef-4f66-ae9b-a948b97f3be1",
   "metadata": {},
   "outputs": [
    {
     "name": "stdout",
     "output_type": "stream",
     "text": [
      "Kathmandu\n"
     ]
    }
   ],
   "source": [
    "country = \"Kathmandu\"\n",
    "print(country)"
   ]
  },
  {
   "cell_type": "raw",
   "id": "06df29d1-10e8-47f2-9cfa-55da30c0bdf2",
   "metadata": {},
   "source": [
    "Python keeps your string in order, like a row of boxes, and each box has one letter.\n",
    "Indexing lets you open a specific box"
   ]
  },
  {
   "cell_type": "markdown",
   "id": "6f835279-7d75-4748-b8c0-affa86c74978",
   "metadata": {},
   "source": [
    "#### A2. Slicing Strings"
   ]
  },
  {
   "cell_type": "raw",
   "id": "efdcd1a2-4025-4b8a-85aa-609f6aaaef90",
   "metadata": {},
   "source": [
    "Index:  0   1   2   3   4\n",
    "Value:  N   e  p  a  l\n"
   ]
  },
  {
   "cell_type": "code",
   "execution_count": 6,
   "id": "1cac6d8e-7ce0-4635-8705-1d89a6d45c54",
   "metadata": {},
   "outputs": [
    {
     "name": "stdout",
     "output_type": "stream",
     "text": [
      "Kat\n"
     ]
    }
   ],
   "source": [
    "print(country[0:3])"
   ]
  },
  {
   "cell_type": "code",
   "execution_count": 17,
   "id": "eaff9c9b-bc91-47f3-835c-38f6f67a5655",
   "metadata": {},
   "outputs": [
    {
     "name": "stdout",
     "output_type": "stream",
     "text": [
      "Hello I am Donald Trump and I am imposing 50% Tarrif on India\n"
     ]
    }
   ],
   "source": [
    "print(x)"
   ]
  },
  {
   "cell_type": "code",
   "execution_count": 7,
   "id": "17e43228-d468-4db2-af66-41cd946dc985",
   "metadata": {},
   "outputs": [
    {
     "name": "stdout",
     "output_type": "stream",
     "text": [
      "Hello I\n"
     ]
    }
   ],
   "source": [
    "print(x[0:7])"
   ]
  },
  {
   "cell_type": "code",
   "execution_count": 8,
   "id": "415c9aae-22a0-42e0-bb94-e3a15e657704",
   "metadata": {},
   "outputs": [
    {
     "name": "stdout",
     "output_type": "stream",
     "text": [
      "9\n"
     ]
    }
   ],
   "source": [
    "print(len(country))"
   ]
  },
  {
   "cell_type": "code",
   "execution_count": 12,
   "id": "e4bd1ad4-9653-4e4a-905d-74f234baa5c5",
   "metadata": {},
   "outputs": [
    {
     "name": "stdout",
     "output_type": "stream",
     "text": [
      "8\n"
     ]
    }
   ],
   "source": [
    "name = \"Krishna\"\n",
    "print(len(name))"
   ]
  },
  {
   "cell_type": "code",
   "execution_count": 42,
   "id": "0af7359c-b0af-46fe-b2cf-b463f2f883a5",
   "metadata": {},
   "outputs": [
    {
     "name": "stdout",
     "output_type": "stream",
     "text": [
      "7\n",
      "Krish\n"
     ]
    }
   ],
   "source": [
    "student_name = 'Krishna'\n",
    "print(len(student_name))\n",
    "print(student_name[0:5])"
   ]
  },
  {
   "cell_type": "raw",
   "id": "a3078c04-b2c4-400e-8333-d6daa2da49d3",
   "metadata": {},
   "source": [
    "Slice From the Start"
   ]
  },
  {
   "cell_type": "code",
   "execution_count": 14,
   "id": "7744a771-3240-4021-8a19-54fecd70cdc9",
   "metadata": {},
   "outputs": [
    {
     "name": "stdout",
     "output_type": "stream",
     "text": [
      "Hello, Nepal!\n"
     ]
    }
   ],
   "source": [
    "b = \"Hello, Nepal!\"\n",
    "#print(b[0:5])\n",
    "\n",
    "print(b[0:])"
   ]
  },
  {
   "cell_type": "raw",
   "id": "afb60146-1a6e-4a41-b92f-286636ff321e",
   "metadata": {},
   "source": [
    "The negative indexing"
   ]
  },
  {
   "cell_type": "code",
   "execution_count": 16,
   "id": "bf44d264-bde3-4ad1-a9a8-f957d22ddd6c",
   "metadata": {},
   "outputs": [
    {
     "name": "stdout",
     "output_type": "stream",
     "text": [
      "\n"
     ]
    }
   ],
   "source": [
    "b = \"Hello, World!\"\n",
    "#print(b[-5:-2])\n",
    "print(b[0:0])"
   ]
  },
  {
   "cell_type": "code",
   "execution_count": null,
   "id": "1b2601a8-62d9-4db7-94ad-3fc40aed20c6",
   "metadata": {},
   "outputs": [],
   "source": []
  },
  {
   "cell_type": "code",
   "execution_count": null,
   "id": "78b829c2-f3f5-4803-99ef-cbf1871458f3",
   "metadata": {},
   "outputs": [],
   "source": []
  },
  {
   "cell_type": "raw",
   "id": "88e45ef7-c89d-496b-9e98-dcbcd3d850e9",
   "metadata": {},
   "source": [
    "Positive:  H   e   l   l   o   ,       W   o   r   l   d   !\n",
    "           0   1   2   3   4   5   6   7   8   9  10  11  12\n",
    "\n",
    "Negative: -13 -12 -11 -10  -9  -8  -7  -6  -5  -4  -3  -2  -1\n"
   ]
  },
  {
   "cell_type": "raw",
   "id": "ae646635-c4aa-45c8-b3cd-cd9881daec76",
   "metadata": {},
   "source": [
    "b[start : stop]"
   ]
  },
  {
   "cell_type": "code",
   "execution_count": 17,
   "id": "e52e5be9-6f11-4c33-a5e3-479e28fccec8",
   "metadata": {},
   "outputs": [
    {
     "name": "stdout",
     "output_type": "stream",
     "text": [
      "\n"
     ]
    }
   ],
   "source": [
    "b = \"Hello, World!\"\n",
    "print(b[-2:-12])\n",
    "#print(b[-12:-2]) \n",
    "#output is empty string because the slicing runs from left to right"
   ]
  },
  {
   "cell_type": "code",
   "execution_count": 19,
   "id": "a2168a7d-6156-4795-be1e-a8d3b6a23b00",
   "metadata": {},
   "outputs": [
    {
     "name": "stdout",
     "output_type": "stream",
     "text": [
      "ewl ia \n",
      "erwalk Sifal \n"
     ]
    }
   ],
   "source": [
    "#steps in slicing\n",
    "a = 'Deerwalk Sifal School'\n",
    "print(a[2:15:2])\n",
    "print(a[2:15])"
   ]
  },
  {
   "cell_type": "markdown",
   "id": "d8ae69ce-3ec1-4742-a6d0-fd346af16073",
   "metadata": {},
   "source": [
    "#### A.3 Modify Strings\n"
   ]
  },
  {
   "cell_type": "raw",
   "id": "7519c4c8-0b52-45aa-984f-11e960af4311",
   "metadata": {},
   "source": [
    "upper()"
   ]
  },
  {
   "cell_type": "code",
   "execution_count": 20,
   "id": "136d663b-cce8-4a1c-ab71-0b4863f0aa92",
   "metadata": {},
   "outputs": [
    {
     "name": "stdout",
     "output_type": "stream",
     "text": [
      "NARENDRA MODI\n"
     ]
    }
   ],
   "source": [
    "my_name = 'narendra modi'\n",
    "print(my_name.upper())"
   ]
  },
  {
   "cell_type": "raw",
   "id": "c25d9fb7-5bb5-486f-9fbc-f98803f354f6",
   "metadata": {},
   "source": [
    "The upper() method returns the string in upper case.\n",
    "The lower() method returns the string in lower case"
   ]
  },
  {
   "cell_type": "raw",
   "id": "03195170-33de-4f5c-85ca-27908968ee8f",
   "metadata": {},
   "source": [
    "lower()"
   ]
  },
  {
   "cell_type": "code",
   "execution_count": 21,
   "id": "2f55fbfd-7278-4677-85e7-f7bc1adb3ff4",
   "metadata": {},
   "outputs": [
    {
     "name": "stdout",
     "output_type": "stream",
     "text": [
      " donald trump\n",
      " DONALD TRUMP\n"
     ]
    }
   ],
   "source": [
    "my_name_ = 'DONALD TRUMP'\n",
    "print(my_name_.lower())\n",
    "print(my_name_)"
   ]
  },
  {
   "cell_type": "raw",
   "id": "050c0798-0438-40a4-b3dd-b1f51597c202",
   "metadata": {},
   "source": [
    "strip()"
   ]
  },
  {
   "cell_type": "code",
   "execution_count": 40,
   "id": "287ac601-1755-4141-83ef-de39c7f6dbce",
   "metadata": {},
   "outputs": [
    {
     "name": "stdout",
     "output_type": "stream",
     "text": [
      " Himal Yadav   \n"
     ]
    }
   ],
   "source": [
    "# remove spacing before and after the string \n",
    "\n",
    "my_name_is = ' Himal Yadav   '\n",
    "print(my_name_is)"
   ]
  },
  {
   "cell_type": "raw",
   "id": "a230f2b4-e800-47a3-96f3-5e85641ddbb2",
   "metadata": {},
   "source": [
    "The strip() method removes any whitespace from the beginning or the end:"
   ]
  },
  {
   "cell_type": "code",
   "execution_count": 38,
   "id": "c515ff7b-597c-4606-8e73-d9d752af2ce4",
   "metadata": {},
   "outputs": [
    {
     "name": "stdout",
     "output_type": "stream",
     "text": [
      "Himal Yadav\n"
     ]
    }
   ],
   "source": [
    "print(my_name_is.strip())"
   ]
  },
  {
   "cell_type": "code",
   "execution_count": 41,
   "id": "2fbc6b37-8ec1-49cd-bfde-993fb6449685",
   "metadata": {},
   "outputs": [
    {
     "data": {
      "text/plain": [
       "'Himal Yadav'"
      ]
     },
     "execution_count": 41,
     "metadata": {},
     "output_type": "execute_result"
    }
   ],
   "source": [
    "my_name_is.strip()"
   ]
  },
  {
   "cell_type": "raw",
   "id": "e5ef1c59-cdcc-41e1-80aa-48df7faf06c1",
   "metadata": {},
   "source": [
    "replace()"
   ]
  },
  {
   "cell_type": "code",
   "execution_count": 26,
   "id": "6834795f-49a5-489f-a079-3c23334df241",
   "metadata": {},
   "outputs": [
    {
     "name": "stdout",
     "output_type": "stream",
     "text": [
      "Uepali\n"
     ]
    }
   ],
   "source": [
    "replace_word = 'Nepali'\n",
    "print(replace_word.replace(\"N\",\"U\"))\n",
    "#print(replace_word)\n",
    "#print(replaced)\n"
   ]
  },
  {
   "cell_type": "code",
   "execution_count": 22,
   "id": "18c55f0a-c22d-498c-97bb-fabd36bd817d",
   "metadata": {},
   "outputs": [
    {
     "name": "stdout",
     "output_type": "stream",
     "text": [
      "Jello, Nepal!\n"
     ]
    }
   ],
   "source": [
    "a = \"Hello, Nepal!\"\n",
    "print(a.replace(\"H\", \"J\"))"
   ]
  },
  {
   "cell_type": "code",
   "execution_count": 32,
   "id": "e2136fc8-f9cb-48d7-bf87-b72d8aa8f5ee",
   "metadata": {},
   "outputs": [
    {
     "name": "stdout",
     "output_type": "stream",
     "text": [
      "Jello Uepal, This is Nepali\n"
     ]
    }
   ],
   "source": [
    "x = 'Hello Nepal, This is Nepali'\n",
    "\n",
    "x = x.replace('H', 'J', 1) # Step 1: Replace only the first H\n",
    "\n",
    "x = x.replace('N', 'U',1) # Step 2: Replace only the first N\n",
    "\n",
    "print(x)"
   ]
  },
  {
   "cell_type": "raw",
   "id": "d8ea9d1f-320c-40ff-9d57-fed5fc150e59",
   "metadata": {},
   "source": [
    "Imagination Case: Imagine you working as Data Analyst and all you need to do is seperate fname,lname,age,gender from data which comes in below mentioned format \n",
    "\n",
    "Rajesh,Hamal,56,Male\n",
    "Alia$Bhatt$32$Female\n",
    "Donald/Trump/78/Male\n",
    "KP-oli-72-Male"
   ]
  },
  {
   "cell_type": "raw",
   "id": "4e505f37-6ae0-4636-bcd7-f4d002ae5d4c",
   "metadata": {},
   "source": [
    "split(): method returns a list where the text between the specified separator becomes the list items."
   ]
  },
  {
   "cell_type": "code",
   "execution_count": 35,
   "id": "c2f3b6c0-18ba-4bfc-b19f-be1fa1e128ef",
   "metadata": {},
   "outputs": [
    {
     "name": "stdout",
     "output_type": "stream",
     "text": [
      "['Alia', 'Bhatt']\n"
     ]
    }
   ],
   "source": [
    "a = \"Alia$Bhatt\"\n",
    "u = print(a.split(\"$\"))"
   ]
  },
  {
   "cell_type": "code",
   "execution_count": 37,
   "id": "2d9921f5-904e-4cfe-9acc-10fbccdb75db",
   "metadata": {},
   "outputs": [
    {
     "name": "stdout",
     "output_type": "stream",
     "text": [
      "['Donald', 'Trump', '78', 'Male']\n"
     ]
    }
   ],
   "source": [
    "usa_president = \"Donald/Trump/78/Male\"\n",
    "\n",
    "parts = usa_president.split('/') # Split the string by '/'\n",
    "print(parts)"
   ]
  },
  {
   "cell_type": "code",
   "execution_count": null,
   "id": "b4514a63-e479-4b36-9973-80b729333301",
   "metadata": {},
   "outputs": [],
   "source": []
  },
  {
   "cell_type": "code",
   "execution_count": 38,
   "id": "896f48a0-38c0-4b5b-8d9e-fd88ce4cba4c",
   "metadata": {},
   "outputs": [
    {
     "name": "stdout",
     "output_type": "stream",
     "text": [
      "First Name: Donald\n",
      "Last Name: Trump\n",
      "Age: 78\n",
      "Gender: Male\n"
     ]
    }
   ],
   "source": [
    "fname = parts[0]  # Assign to separate variables\n",
    "lname = parts[1]\n",
    "age = parts[2]\n",
    "gender = parts[3]\n",
    "\n",
    "# Print them\n",
    "print(\"First Name:\", fname)\n",
    "print(\"Last Name:\", lname)\n",
    "print(\"Age:\", age)\n",
    "print(\"Gender:\", gender)\n"
   ]
  },
  {
   "cell_type": "raw",
   "id": "68effe42-faac-40ec-a6db-d7319cff434e",
   "metadata": {},
   "source": [
    "Day 2 Exercise: https://docs.google.com/document/d/1ELIm8YljbSlxQV_N8osrS10_BHcVRe7us-TkStm8zVI/edit?usp=sharing\n",
    "\n",
    "Short link: https://shorturl.at/ASDvo"
   ]
  },
  {
   "cell_type": "code",
   "execution_count": null,
   "id": "35bfa1a0-4544-425b-86ae-1931c44d6c5e",
   "metadata": {},
   "outputs": [],
   "source": []
  },
  {
   "cell_type": "code",
   "execution_count": null,
   "id": "010f8778-0653-45a4-b81f-f447fa255983",
   "metadata": {},
   "outputs": [],
   "source": []
  }
 ],
 "metadata": {
  "kernelspec": {
   "display_name": "Python 3 (ipykernel)",
   "language": "python",
   "name": "python3"
  },
  "language_info": {
   "codemirror_mode": {
    "name": "ipython",
    "version": 3
   },
   "file_extension": ".py",
   "mimetype": "text/x-python",
   "name": "python",
   "nbconvert_exporter": "python",
   "pygments_lexer": "ipython3",
   "version": "3.13.2"
  }
 },
 "nbformat": 4,
 "nbformat_minor": 5
}
